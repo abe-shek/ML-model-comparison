{
 "cells": [
  {
   "cell_type": "code",
   "execution_count": 39,
   "metadata": {},
   "outputs": [],
   "source": [
    "from sklearn.datasets import load_digits \n",
    "from sklearn.preprocessing import StandardScaler  \n",
    "from sklearn.model_selection import train_test_split  \n",
    "from sklearn.metrics import accuracy_score \n",
    "import numpy as np\n",
    "import tensorflow as tf"
   ]
  },
  {
   "cell_type": "markdown",
   "metadata": {},
   "source": [
    "### Utility functions\n",
    "\n",
    "#### Data collection and preprocessing"
   ]
  },
  {
   "cell_type": "code",
   "execution_count": 35,
   "metadata": {},
   "outputs": [],
   "source": [
    "def convert_y_to_vect(y):\n",
    "    y_vect = np.zeros((len(y), 10))\n",
    "    for i in range(len(y)):\n",
    "        y_vect[i, y[i]] = 1\n",
    "    return y_vect\n",
    "\n",
    "\n",
    "def load_mnist_data(source=\"sk\"):\n",
    "    if source == \"sk\":\n",
    "        digits=load_digits()\n",
    "        X = digits.data\n",
    "        y = digits.target\n",
    "    else:\n",
    "        mnist = tf.keras.datasets.mnist\n",
    "        (x_train, y_train), (x_test, y_test) = mnist.load_data()\n",
    "        X = np.append(x_train, x_test, axis=0)\n",
    "        X = X.reshape(-1, X.shape[1]**2)\n",
    "        y = np.append(y_train, y_test, axis=0)\n",
    "        \n",
    "    X_scale = StandardScaler()\n",
    "    X = X_scale.fit_transform(X)\n",
    "    x_train, x_test, y_train, y_test = train_test_split(X, y, test_size=0.4)\n",
    "    \n",
    "    y_train = convert_y_to_vect(y_train)\n",
    "    \n",
    "    return (x_train, y_train), (x_test, y_test)"
   ]
  },
  {
   "cell_type": "markdown",
   "metadata": {},
   "source": [
    "### TF Implementation - Emulate Homework\n",
    "We use TensorFlow to emulate our implementation for Neural Netork Assignment. We chose a rather low performing combination of our hyperparameters from homework implementation to test out the robustness and achieve higher accuracies. \n",
    "##### Hyperparameter combination\n",
    "Activation - **Relu** || Weights and Biases initialization - **Uniform Distribution** || Optimizer - **SGD** || Alpha - **0.1** || Regularization - **L2 (0.01)** || Epochs - **300**\n"
   ]
  },
  {
   "cell_type": "code",
   "execution_count": 36,
   "metadata": {},
   "outputs": [],
   "source": [
    "def generate_model(data_source=\"sk\"):\n",
    "    model = tf.keras.models.Sequential([\n",
    "        tf.keras.layers.InputLayer(input_shape=(64 if data_source==\"sk\" else 784,)),\n",
    "        tf.keras.layers.Dense(30, activation=\"relu\", \n",
    "                              kernel_initializer=\"glorot_uniform\", \n",
    "                              bias_initializer=\"glorot_uniform\",\n",
    "                              kernel_regularizer=tf.keras.regularizers.l2(0.01)),\n",
    "        tf.keras.layers.Dense(10, activation=\"relu\",\n",
    "                              kernel_initializer=\"glorot_uniform\", \n",
    "                              bias_initializer=\"glorot_uniform\",\n",
    "                              kernel_regularizer=tf.keras.regularizers.l2(0.01))\n",
    "    ])\n",
    "    return model\n",
    "\n",
    "\n",
    "def tf_implementation(data_source=\"sk\", no_runs=1, batch_size=32, epochs=300, verbose=0):\n",
    "    avg_accuracy = []\n",
    "    for i in range(1, no_runs+1):\n",
    "        (x_train, y_train), (x_test, y_test) = load_mnist_data(source=data_source)\n",
    "        model = generate_model(data_source)\n",
    "        model.compile(optimizer=tf.keras.optimizers.SGD(learning_rate=0.1), loss='mse', metrics=['accuracy'])\n",
    "        model.fit(x_train, y_train, batch_size=batch_size, epochs=epochs, verbose=verbose)\n",
    "        preds = model.predict(x_test)\n",
    "        y_preds = np.argmax(preds, axis=1).reshape(-1,1)\n",
    "        accuracy = accuracy_score(y_test, y_preds)\n",
    "        print(\"Tensor Flow Implementaion accuracy {:0.2f} %\".format(accuracy*100))\n",
    "        avg_accuracy.append(accuracy)\n",
    "    if no_runs > 1:\n",
    "        print(\"Average accuracy over {} runs = {:0.2f} %\".format(no_runs, (np.sum(np.array(avg_accuracy))/float(no_runs))*100))"
   ]
  },
  {
   "cell_type": "markdown",
   "metadata": {},
   "source": [
    "### TF Extension - RMS Prop"
   ]
  },
  {
   "cell_type": "code",
   "execution_count": 37,
   "metadata": {},
   "outputs": [],
   "source": [
    "def generate_model_ext(data_source=\"sk\"):\n",
    "    model = tf.keras.models.Sequential([\n",
    "        tf.keras.layers.InputLayer(input_shape=(64 if data_source==\"sk\" else 784,)),\n",
    "        tf.keras.layers.Dense(30, activation=\"relu\",\n",
    "                              kernel_initializer=\"glorot_uniform\",\n",
    "                              bias_initializer=\"glorot_uniform\",\n",
    "                              kernel_regularizer=tf.keras.regularizers.l2(0.01)),\n",
    "        tf.keras.layers.Dense(10, activation=\"relu\",\n",
    "                              kernel_initializer=\"glorot_uniform\", \n",
    "                              bias_initializer=\"glorot_uniform\",\n",
    "                              kernel_regularizer=tf.keras.regularizers.l2(0.01))\n",
    "\n",
    "    ])\n",
    "    return model\n",
    "\n",
    "def tf_ext(data_source=\"sk\", lr=0.001, no_runs=1, batch_size=32, epochs=100, verbose=0):\n",
    "    avg_accuracy = []\n",
    "    for i in range(1, no_runs+1):\n",
    "        (x_train, y_train), (x_test, y_test) = load_mnist_data(data_source)\n",
    "        model = generate_model_ext(data_source)\n",
    "        model.compile(optimizer=tf.keras.optimizers.RMSprop(learning_rate=lr, rho=0.9), loss='mse', metrics=['accuracy'])\n",
    "        model.fit(x_train, y_train, batch_size=batch_size, epochs=epochs,verbose=verbose)\n",
    "        preds = model.predict(x_test)\n",
    "        y_preds = np.argmax(preds, axis=1).reshape(-1,1)\n",
    "        accuracy = accuracy_score(y_test, y_preds)\n",
    "        print(\"Tensor Flow extension using RMSprop {:0.2f} %\".format(accuracy*100))\n",
    "        avg_accuracy.append(accuracy)\n",
    "    if no_runs > 1:\n",
    "        print(\"Average accuracy over {} runs = {:0.2f} %\".format(no_runs, (np.sum(np.array(avg_accuracy))/float(no_runs))*100))"
   ]
  },
  {
   "cell_type": "markdown",
   "metadata": {},
   "source": [
    "## Testing"
   ]
  },
  {
   "cell_type": "markdown",
   "metadata": {},
   "source": [
    "## Scikit-Learn MNIST (approx. 2000 images)"
   ]
  },
  {
   "cell_type": "code",
   "execution_count": 40,
   "metadata": {},
   "outputs": [
    {
     "name": "stdout",
     "output_type": "stream",
     "text": [
      "Tensor Flow Implementaion accuracy 85.81 %\n",
      "Tensor Flow Implementaion accuracy 68.29 %\n",
      "Tensor Flow Implementaion accuracy 76.77 %\n",
      "Tensor Flow Implementaion accuracy 67.87 %\n",
      "Tensor Flow Implementaion accuracy 86.79 %\n",
      "Average accuracy over 5 runs = 77.11 %\n"
     ]
    }
   ],
   "source": [
    "tf_implementation(data_source = \"sk\", no_runs=5, batch_size=32, epochs=300, verbose=0)"
   ]
  },
  {
   "cell_type": "code",
   "execution_count": 46,
   "metadata": {},
   "outputs": [
    {
     "name": "stdout",
     "output_type": "stream",
     "text": [
      "Tensor Flow extension using RMSprop 74.27 %\n",
      "Tensor Flow extension using RMSprop 94.16 %\n",
      "Tensor Flow extension using RMSprop 72.04 %\n",
      "Tensor Flow extension using RMSprop 86.37 %\n",
      "Tensor Flow extension using RMSprop 93.18 %\n",
      "Average accuracy over 5 runs = 84.01 %\n"
     ]
    }
   ],
   "source": [
    "tf_ext(data_source=\"sk\", lr=0.001, no_runs=5, batch_size=32, epochs=300, verbose=0)"
   ]
  },
  {
   "cell_type": "markdown",
   "metadata": {},
   "source": [
    "## MNIST Handwritten digits (approx. 70K images)"
   ]
  },
  {
   "cell_type": "code",
   "execution_count": 42,
   "metadata": {},
   "outputs": [
    {
     "name": "stdout",
     "output_type": "stream",
     "text": [
      "Tensor Flow Implementaion accuracy 88.23 %\n",
      "Tensor Flow Implementaion accuracy 72.68 %\n",
      "Tensor Flow Implementaion accuracy 88.56 %\n",
      "Tensor Flow Implementaion accuracy 89.21 %\n",
      "Tensor Flow Implementaion accuracy 73.51 %\n",
      "Average accuracy over 5 runs = 82.44 %\n"
     ]
    }
   ],
   "source": [
    "tf_implementation(data_source=\"tf\", no_runs=5, batch_size=512, epochs=10, verbose=0)"
   ]
  },
  {
   "cell_type": "code",
   "execution_count": 47,
   "metadata": {
    "scrolled": true
   },
   "outputs": [
    {
     "name": "stdout",
     "output_type": "stream",
     "text": [
      "Tensor Flow extension using RMSprop 86.03 %\n",
      "Tensor Flow extension using RMSprop 87.37 %\n",
      "Tensor Flow extension using RMSprop 71.08 %\n",
      "Tensor Flow extension using RMSprop 87.80 %\n",
      "Tensor Flow extension using RMSprop 87.80 %\n",
      "Average accuracy over 5 runs = 84.01 %\n"
     ]
    }
   ],
   "source": [
    "tf_ext(data_source=\"tf\", lr=0.001, no_runs=5, batch_size=512, epochs=10, verbose=0)"
   ]
  },
  {
   "cell_type": "code",
   "execution_count": null,
   "metadata": {},
   "outputs": [],
   "source": []
  }
 ],
 "metadata": {
  "kernelspec": {
   "display_name": "Python 3",
   "language": "python",
   "name": "python3"
  },
  "language_info": {
   "codemirror_mode": {
    "name": "ipython",
    "version": 3
   },
   "file_extension": ".py",
   "mimetype": "text/x-python",
   "name": "python",
   "nbconvert_exporter": "python",
   "pygments_lexer": "ipython3",
   "version": "3.6.8"
  }
 },
 "nbformat": 4,
 "nbformat_minor": 2
}
